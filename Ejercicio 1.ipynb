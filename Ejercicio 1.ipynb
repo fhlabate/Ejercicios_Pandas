{
 "cells": [
  {
   "cell_type": "code",
   "execution_count": 1,
   "id": "2baab0ef-c1ee-4ffb-b4e7-4b602ba8a888",
   "metadata": {},
   "outputs": [
    {
     "data": {
      "text/plain": [
       "array(['Habitatge', 'Aparcaments', 'Comerç', 'Magatzem', 'Oficina',\n",
       "       'Turisme i hostaleria', 'Ensenyament i cultura', 'Sanitat',\n",
       "       'Religiós', 'Adm.Pública', 'Espectacles', 'Esportiu',\n",
       "       'Sòl sense edificar', 'Altres', 'Indústria'], dtype=object)"
      ]
     },
     "execution_count": 1,
     "metadata": {},
     "output_type": "execute_result"
    }
   ],
   "source": [
    "#Descarga el dataset adjunto Locales catastral según uso (.csv), cárgalo en un pandas Dataframe y muestra por pantalla los primeros 20 registros.\n",
    "\n",
    "#Muestra por pantalla los nombres de las diferentes variables (columnas)\n",
    "\n",
    "#Obtén los valores únicos de la varaible 'Desc_us_desti_principal' y muestralos por pantalla\n",
    "\n",
    "import pandas as pd\n",
    "\n",
    "df = pd.read_csv('dataset Locals OpenDataBCN.csv')\n",
    "df\n",
    "\n",
    "#df1 = pd.read_csv('dataset Locals OpenDataBCN.csv', nrows=0) #De esta manera filtro los valores de la primera fila (encabezados de las columnas)\n",
    "#print(df1)\n",
    "\n",
    "df2 = df.columns #Otra manera de objtener los nombres de las column\n",
    "df2\n",
    "\n",
    "df3 = df['Desc_us_desti_principal'] #Muestro solo los valores de la columna 'Desc_us_desti_principal'\n",
    "df3         \n",
    "\n",
    "df4 = df['Desc_us_desti_principal'].unique() #Filtro para ver solo los valores únicos.\n",
    "df4"
   ]
  }
 ],
 "metadata": {
  "kernelspec": {
   "display_name": "Python 3 (ipykernel)",
   "language": "python",
   "name": "python3"
  },
  "language_info": {
   "codemirror_mode": {
    "name": "ipython",
    "version": 3
   },
   "file_extension": ".py",
   "mimetype": "text/x-python",
   "name": "python",
   "nbconvert_exporter": "python",
   "pygments_lexer": "ipython3",
   "version": "3.10.9"
  }
 },
 "nbformat": 4,
 "nbformat_minor": 5
}
